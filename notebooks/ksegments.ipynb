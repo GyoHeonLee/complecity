{
 "cells": [
  {
   "cell_type": "code",
   "execution_count": 3,
   "metadata": {},
   "outputs": [
    {
     "ename": "ModuleNotFoundError",
     "evalue": "No module named 'geopandas'",
     "output_type": "error",
     "traceback": [
      "\u001b[1;31m---------------------------------------------------------------------------\u001b[0m",
      "\u001b[1;31mModuleNotFoundError\u001b[0m                       Traceback (most recent call last)",
      "\u001b[1;32m<ipython-input-3-a62d01c1d62e>\u001b[0m in \u001b[0;36m<module>\u001b[1;34m\u001b[0m\n\u001b[1;32m----> 1\u001b[1;33m \u001b[1;32mimport\u001b[0m \u001b[0mgeopandas\u001b[0m \u001b[1;32mas\u001b[0m \u001b[0mgpd\u001b[0m\u001b[1;33m\u001b[0m\u001b[1;33m\u001b[0m\u001b[0m\n\u001b[0m",
      "\u001b[1;31mModuleNotFoundError\u001b[0m: No module named 'geopandas'"
     ]
    }
   ],
   "source": [
    "import geopandas as gpd"
   ]
  },
  {
   "cell_type": "code",
   "execution_count": 4,
   "metadata": {},
   "outputs": [],
   "source": [
    "import networkx as nx\n",
    "import matplotlib.pyplot as plt"
   ]
  },
  {
   "cell_type": "code",
   "execution_count": 5,
   "metadata": {},
   "outputs": [
    {
     "ename": "ModuleNotFoundError",
     "evalue": "No module named 'osmnx'",
     "output_type": "error",
     "traceback": [
      "\u001b[1;31m---------------------------------------------------------------------------\u001b[0m",
      "\u001b[1;31mModuleNotFoundError\u001b[0m                       Traceback (most recent call last)",
      "\u001b[1;32m<ipython-input-5-d4a103aeed40>\u001b[0m in \u001b[0;36m<module>\u001b[1;34m\u001b[0m\n\u001b[1;32m----> 1\u001b[1;33m \u001b[1;32mimport\u001b[0m \u001b[0mosmnx\u001b[0m \u001b[1;32mas\u001b[0m \u001b[0mox\u001b[0m\u001b[1;33m\u001b[0m\u001b[1;33m\u001b[0m\u001b[0m\n\u001b[0m",
      "\u001b[1;31mModuleNotFoundError\u001b[0m: No module named 'osmnx'"
     ]
    }
   ],
   "source": [
    "import osmnx as ox"
   ]
  },
  {
   "cell_type": "code",
   "execution_count": 6,
   "metadata": {},
   "outputs": [],
   "source": [
    "import numpy as np"
   ]
  },
  {
   "cell_type": "code",
   "execution_count": 5,
   "metadata": {},
   "outputs": [],
   "source": [
    "import shapely.geometry as geom"
   ]
  },
  {
   "cell_type": "code",
   "execution_count": 16,
   "metadata": {},
   "outputs": [],
   "source": [
    "import h5py as h5"
   ]
  },
  {
   "cell_type": "code",
   "execution_count": 146,
   "metadata": {},
   "outputs": [],
   "source": [
    "Taxi = h5.File('2013-12-11.hdf5','r+')"
   ]
  },
  {
   "cell_type": "code",
   "execution_count": 155,
   "metadata": {},
   "outputs": [],
   "source": [
    "class test:\n",
    "    def __getitem__(self, key):\n",
    "        return key"
   ]
  },
  {
   "cell_type": "code",
   "execution_count": 157,
   "metadata": {},
   "outputs": [],
   "source": [
    "a = test()"
   ]
  },
  {
   "cell_type": "code",
   "execution_count": 41,
   "metadata": {},
   "outputs": [],
   "source": [
    "import pyproj\n",
    "import numpy as np\n",
    "\n",
    "def UTM2WGS84(dataX,dataY):\n",
    "    \"\"\"\n",
    "    convert from UTM coord to WGS84 coord\n",
    "    \n",
    "    input longitude, latitude UTM coordinate\n",
    "    return longitude, latitude WGS84 coordinate\n",
    "    \"\"\"\n",
    "    KoreaZone = 52\n",
    "    p = pyproj.Proj(proj = 'utm', zone = 52, ellps='WGS84')\n",
    "    dataX, dataY = p(dataX, dataY, inverse = True,dtype=np.float32)\n",
    "    return dataX,dataY  # lon, lat"
   ]
  },
  {
   "cell_type": "code",
   "execution_count": 52,
   "metadata": {},
   "outputs": [],
   "source": [
    "import pyproj\n",
    "import numpy as np\n",
    "\n",
    "def UTM(dataX,dataY):\n",
    "    \"\"\"\n",
    "    convert from UTM coord to WGS84 coord\n",
    "    \n",
    "    input longitude, latitude UTM coordinate\n",
    "    return longitude, latitude WGS84 coordinate\n",
    "    \"\"\"\n",
    "    KoreaZone = 52\n",
    "    p = pyproj.Proj(proj = 'utm', zone = '52N', ellps='WGS84')\n",
    "    dataX, dataY = p(dataX, dataY,dtype=np.float32)\n",
    "    return dataX,dataY  # lon, lat"
   ]
  },
  {
   "cell_type": "markdown",
   "metadata": {},
   "source": [
    "# Load Data"
   ]
  },
  {
   "cell_type": "code",
   "execution_count": 1,
   "metadata": {},
   "outputs": [],
   "source": [
    "import taxidata as td"
   ]
  },
  {
   "cell_type": "code",
   "execution_count": 2,
   "metadata": {},
   "outputs": [],
   "source": [
    "b = td.Dataset('2013-12-11.hdf5')"
   ]
  },
  {
   "cell_type": "code",
   "execution_count": 3,
   "metadata": {},
   "outputs": [
    {
     "ename": "KeyError",
     "evalue": "'vel'",
     "output_type": "error",
     "traceback": [
      "\u001b[1;31m---------------------------------------------------------------------------\u001b[0m",
      "\u001b[1;31mKeyError\u001b[0m                                  Traceback (most recent call last)",
      "\u001b[1;32m<ipython-input-3-9d9f609c1494>\u001b[0m in \u001b[0;36m<module>\u001b[1;34m\u001b[0m\n\u001b[1;32m----> 1\u001b[1;33m \u001b[0mc\u001b[0m \u001b[1;33m=\u001b[0m \u001b[0mb\u001b[0m\u001b[1;33m.\u001b[0m\u001b[0mget_array\u001b[0m\u001b[1;33m(\u001b[0m\u001b[1;33m)\u001b[0m\u001b[1;33m\u001b[0m\u001b[1;33m\u001b[0m\u001b[0m\n\u001b[0m",
      "\u001b[1;32m~\\master\\notebook\\taxidata\\core\\object.py\u001b[0m in \u001b[0;36mget_array\u001b[1;34m(self, target, start_time, end_time, **kwarg)\u001b[0m\n\u001b[0;32m    218\u001b[0m             \u001b[0mfields\u001b[0m\u001b[1;33m.\u001b[0m\u001b[0minsert\u001b[0m\u001b[1;33m(\u001b[0m\u001b[1;36m0\u001b[0m\u001b[1;33m,\u001b[0m\u001b[1;34m'time'\u001b[0m\u001b[1;33m)\u001b[0m\u001b[1;33m\u001b[0m\u001b[1;33m\u001b[0m\u001b[0m\n\u001b[0;32m    219\u001b[0m             \u001b[0mfields\u001b[0m\u001b[1;33m.\u001b[0m\u001b[0minsert\u001b[0m\u001b[1;33m(\u001b[0m\u001b[1;36m0\u001b[0m\u001b[1;33m,\u001b[0m\u001b[1;34m'id'\u001b[0m\u001b[1;33m)\u001b[0m\u001b[1;33m\u001b[0m\u001b[1;33m\u001b[0m\u001b[0m\n\u001b[1;32m--> 220\u001b[1;33m             \u001b[0mdtypes\u001b[0m \u001b[1;33m=\u001b[0m \u001b[1;33m[\u001b[0m\u001b[0mself\u001b[0m\u001b[1;33m.\u001b[0m\u001b[0mdtype_presets\u001b[0m\u001b[1;33m[\u001b[0m\u001b[0mkey\u001b[0m\u001b[1;33m]\u001b[0m \u001b[1;32mfor\u001b[0m \u001b[0mkey\u001b[0m \u001b[1;32min\u001b[0m \u001b[0mfields\u001b[0m\u001b[1;33m]\u001b[0m\u001b[1;33m\u001b[0m\u001b[1;33m\u001b[0m\u001b[0m\n\u001b[0m\u001b[0;32m    221\u001b[0m \u001b[1;33m\u001b[0m\u001b[0m\n\u001b[0;32m    222\u001b[0m         \u001b[1;32melse\u001b[0m\u001b[1;33m:\u001b[0m\u001b[1;33m\u001b[0m\u001b[1;33m\u001b[0m\u001b[0m\n",
      "\u001b[1;32m~\\master\\notebook\\taxidata\\core\\object.py\u001b[0m in \u001b[0;36m<listcomp>\u001b[1;34m(.0)\u001b[0m\n\u001b[0;32m    218\u001b[0m             \u001b[0mfields\u001b[0m\u001b[1;33m.\u001b[0m\u001b[0minsert\u001b[0m\u001b[1;33m(\u001b[0m\u001b[1;36m0\u001b[0m\u001b[1;33m,\u001b[0m\u001b[1;34m'time'\u001b[0m\u001b[1;33m)\u001b[0m\u001b[1;33m\u001b[0m\u001b[1;33m\u001b[0m\u001b[0m\n\u001b[0;32m    219\u001b[0m             \u001b[0mfields\u001b[0m\u001b[1;33m.\u001b[0m\u001b[0minsert\u001b[0m\u001b[1;33m(\u001b[0m\u001b[1;36m0\u001b[0m\u001b[1;33m,\u001b[0m\u001b[1;34m'id'\u001b[0m\u001b[1;33m)\u001b[0m\u001b[1;33m\u001b[0m\u001b[1;33m\u001b[0m\u001b[0m\n\u001b[1;32m--> 220\u001b[1;33m             \u001b[0mdtypes\u001b[0m \u001b[1;33m=\u001b[0m \u001b[1;33m[\u001b[0m\u001b[0mself\u001b[0m\u001b[1;33m.\u001b[0m\u001b[0mdtype_presets\u001b[0m\u001b[1;33m[\u001b[0m\u001b[0mkey\u001b[0m\u001b[1;33m]\u001b[0m \u001b[1;32mfor\u001b[0m \u001b[0mkey\u001b[0m \u001b[1;32min\u001b[0m \u001b[0mfields\u001b[0m\u001b[1;33m]\u001b[0m\u001b[1;33m\u001b[0m\u001b[1;33m\u001b[0m\u001b[0m\n\u001b[0m\u001b[0;32m    221\u001b[0m \u001b[1;33m\u001b[0m\u001b[0m\n\u001b[0;32m    222\u001b[0m         \u001b[1;32melse\u001b[0m\u001b[1;33m:\u001b[0m\u001b[1;33m\u001b[0m\u001b[1;33m\u001b[0m\u001b[0m\n",
      "\u001b[1;31mKeyError\u001b[0m: 'vel'"
     ]
    }
   ],
   "source": [
    "c = b.get_array()"
   ]
  },
  {
   "cell_type": "code",
   "execution_count": 17,
   "metadata": {},
   "outputs": [],
   "source": [
    "a = h5.File('2013-12-11.hdf5')"
   ]
  },
  {
   "cell_type": "code",
   "execution_count": 23,
   "metadata": {},
   "outputs": [
    {
     "data": {
      "text/plain": [
       "datetime.datetime(2013, 12, 11, 0, 0)"
      ]
     },
     "execution_count": 23,
     "metadata": {},
     "output_type": "execute_result"
    }
   ],
   "source": [
    "dt.datetime.fromtimestamp(a.attrs['Date']*86400+54000)"
   ]
  },
  {
   "cell_type": "code",
   "execution_count": 11,
   "metadata": {},
   "outputs": [
    {
     "data": {
      "text/plain": [
       "array([2, 5], dtype=int32)"
      ]
     },
     "execution_count": 11,
     "metadata": {},
     "output_type": "execute_result"
    }
   ],
   "source": [
    "np.arange(2,4).cumsum()"
   ]
  },
  {
   "cell_type": "code",
   "execution_count": 209,
   "metadata": {},
   "outputs": [
    {
     "name": "stdout",
     "output_type": "stream",
     "text": [
      "0\n",
      "1\n",
      "2\n",
      "3\n",
      "4\n",
      "5\n",
      "6\n",
      "7\n",
      "8\n",
      "9\n"
     ]
    }
   ],
   "source": [
    "for i in range(10):\n",
    "    print(i)"
   ]
  },
  {
   "cell_type": "code",
   "execution_count": 194,
   "metadata": {},
   "outputs": [],
   "source": [
    "id_list = Taxi['id_list'][:]"
   ]
  },
  {
   "cell_type": "code",
   "execution_count": 195,
   "metadata": {},
   "outputs": [],
   "source": [
    "targets = id_list[:500]"
   ]
  },
  {
   "cell_type": "code",
   "execution_count": 198,
   "metadata": {},
   "outputs": [],
   "source": [
    "timetable = timetable[:]"
   ]
  },
  {
   "cell_type": "code",
   "execution_count": 200,
   "metadata": {},
   "outputs": [],
   "source": [
    "time = slice(360,720)"
   ]
  },
  {
   "cell_type": "code",
   "execution_count": 202,
   "metadata": {},
   "outputs": [],
   "source": [
    "ids = {ii:i for i, ii in enumerate(id_list)}\n",
    "target = [ids[taxiid] for taxiid in targets]\n",
    "target.sort()\n",
    "indices = []\n",
    "for i in target:\n",
    "    datalist = timetable[i][time]\n",
    "    datalist = datalist[datalist!=-1]\n",
    "    indices.append(datalist)\n",
    "#data = []"
   ]
  },
  {
   "cell_type": "code",
   "execution_count": 205,
   "metadata": {
    "collapsed": true,
    "jupyter": {
     "outputs_hidden": true
    }
   },
   "outputs": [
    {
     "name": "stdout",
     "output_type": "stream",
     "text": [
      "(21,)\n",
      "(33,)\n",
      "(47,)\n",
      "(54,)\n",
      "(64,)\n",
      "(85,)\n",
      "(98,)\n",
      "(112,)\n",
      "(125,)\n",
      "(132,)\n",
      "(149,)\n",
      "(164,)\n",
      "(181,)\n",
      "(196,)\n",
      "(206,)\n",
      "(205,)\n",
      "(205,)\n",
      "(209,)\n",
      "(208,)\n",
      "(206,)\n",
      "(204,)\n",
      "(205,)\n",
      "(204,)\n",
      "(207,)\n",
      "(209,)\n",
      "(206,)\n",
      "(205,)\n",
      "(204,)\n",
      "(208,)\n",
      "(206,)\n",
      "(205,)\n",
      "(206,)\n",
      "(205,)\n",
      "(208,)\n",
      "(207,)\n",
      "(205,)\n",
      "(207,)\n",
      "(208,)\n",
      "(206,)\n",
      "(209,)\n",
      "(204,)\n",
      "(205,)\n",
      "(204,)\n",
      "(207,)\n",
      "(207,)\n",
      "(202,)\n",
      "(207,)\n",
      "(204,)\n",
      "(203,)\n",
      "(204,)\n",
      "(204,)\n",
      "(204,)\n",
      "(204,)\n",
      "(203,)\n",
      "(202,)\n",
      "(204,)\n",
      "(206,)\n",
      "(204,)\n",
      "(203,)\n",
      "(205,)\n",
      "(199,)\n",
      "(203,)\n",
      "(204,)\n",
      "(205,)\n",
      "(204,)\n",
      "(203,)\n",
      "(201,)\n",
      "(203,)\n",
      "(202,)\n",
      "(205,)\n",
      "(201,)\n",
      "(203,)\n",
      "(200,)\n",
      "(201,)\n",
      "(202,)\n",
      "(202,)\n",
      "(201,)\n",
      "(200,)\n",
      "(202,)\n",
      "(203,)\n",
      "(199,)\n",
      "(201,)\n",
      "(200,)\n",
      "(201,)\n",
      "(201,)\n",
      "(199,)\n",
      "(201,)\n",
      "(201,)\n",
      "(202,)\n",
      "(199,)\n",
      "(199,)\n",
      "(201,)\n",
      "(200,)\n",
      "(202,)\n",
      "(203,)\n",
      "(203,)\n",
      "(201,)\n",
      "(203,)\n",
      "(203,)\n",
      "(200,)\n",
      "(202,)\n",
      "(200,)\n",
      "(199,)\n",
      "(199,)\n",
      "(206,)\n",
      "(206,)\n",
      "(203,)\n",
      "(206,)\n",
      "(203,)\n",
      "(205,)\n",
      "(204,)\n",
      "(204,)\n",
      "(206,)\n",
      "(206,)\n",
      "(206,)\n",
      "(207,)\n",
      "(205,)\n",
      "(205,)\n",
      "(205,)\n",
      "(207,)\n",
      "(206,)\n",
      "(204,)\n",
      "(206,)\n",
      "(208,)\n",
      "(203,)\n",
      "(207,)\n",
      "(207,)\n",
      "(207,)\n",
      "(208,)\n",
      "(207,)\n",
      "(205,)\n",
      "(207,)\n",
      "(209,)\n",
      "(207,)\n",
      "(206,)\n",
      "(208,)\n",
      "(202,)\n",
      "(207,)\n",
      "(205,)\n",
      "(208,)\n",
      "(206,)\n",
      "(204,)\n",
      "(208,)\n",
      "(206,)\n",
      "(206,)\n",
      "(207,)\n",
      "(203,)\n",
      "(204,)\n",
      "(200,)\n",
      "(204,)\n",
      "(206,)\n",
      "(204,)\n",
      "(207,)\n",
      "(206,)\n",
      "(206,)\n",
      "(207,)\n",
      "(206,)\n",
      "(205,)\n",
      "(204,)\n",
      "(203,)\n",
      "(205,)\n",
      "(204,)\n",
      "(204,)\n",
      "(202,)\n",
      "(204,)\n",
      "(205,)\n",
      "(206,)\n",
      "(206,)\n",
      "(206,)\n",
      "(206,)\n",
      "(207,)\n",
      "(204,)\n",
      "(205,)\n",
      "(206,)\n",
      "(207,)\n",
      "(210,)\n",
      "(210,)\n",
      "(209,)\n",
      "(207,)\n",
      "(207,)\n",
      "(210,)\n",
      "(207,)\n",
      "(209,)\n",
      "(209,)\n",
      "(208,)\n",
      "(209,)\n",
      "(210,)\n",
      "(208,)\n",
      "(209,)\n",
      "(210,)\n",
      "(211,)\n",
      "(212,)\n",
      "(209,)\n",
      "(210,)\n",
      "(208,)\n",
      "(210,)\n",
      "(208,)\n",
      "(205,)\n",
      "(208,)\n",
      "(207,)\n",
      "(207,)\n",
      "(208,)\n",
      "(208,)\n",
      "(209,)\n",
      "(209,)\n",
      "(205,)\n",
      "(209,)\n",
      "(208,)\n",
      "(208,)\n",
      "(209,)\n",
      "(209,)\n",
      "(210,)\n",
      "(203,)\n",
      "(210,)\n",
      "(210,)\n",
      "(209,)\n",
      "(210,)\n",
      "(206,)\n",
      "(206,)\n",
      "(206,)\n",
      "(207,)\n",
      "(207,)\n",
      "(205,)\n",
      "(207,)\n",
      "(204,)\n",
      "(207,)\n",
      "(208,)\n",
      "(208,)\n",
      "(208,)\n",
      "(207,)\n",
      "(208,)\n",
      "(208,)\n",
      "(208,)\n",
      "(210,)\n",
      "(209,)\n",
      "(209,)\n",
      "(211,)\n",
      "(208,)\n",
      "(208,)\n",
      "(204,)\n",
      "(205,)\n",
      "(206,)\n",
      "(205,)\n",
      "(206,)\n",
      "(207,)\n",
      "(206,)\n",
      "(208,)\n",
      "(206,)\n",
      "(206,)\n",
      "(207,)\n",
      "(207,)\n",
      "(207,)\n",
      "(208,)\n",
      "(208,)\n",
      "(207,)\n",
      "(206,)\n",
      "(208,)\n",
      "(209,)\n",
      "(207,)\n",
      "(209,)\n",
      "(208,)\n",
      "(207,)\n",
      "(207,)\n",
      "(206,)\n",
      "(207,)\n",
      "(207,)\n",
      "(207,)\n",
      "(208,)\n",
      "(202,)\n",
      "(202,)\n",
      "(203,)\n",
      "(206,)\n",
      "(203,)\n",
      "(202,)\n",
      "(203,)\n",
      "(202,)\n",
      "(202,)\n",
      "(203,)\n",
      "(201,)\n",
      "(204,)\n",
      "(203,)\n",
      "(200,)\n",
      "(202,)\n",
      "(203,)\n",
      "(204,)\n",
      "(204,)\n",
      "(202,)\n",
      "(203,)\n",
      "(203,)\n",
      "(203,)\n",
      "(205,)\n",
      "(203,)\n",
      "(206,)\n",
      "(205,)\n",
      "(205,)\n",
      "(206,)\n",
      "(206,)\n",
      "(206,)\n",
      "(205,)\n",
      "(205,)\n",
      "(203,)\n",
      "(204,)\n",
      "(202,)\n",
      "(201,)\n",
      "(207,)\n",
      "(204,)\n",
      "(205,)\n",
      "(206,)\n",
      "(203,)\n",
      "(204,)\n",
      "(205,)\n",
      "(205,)\n",
      "(205,)\n",
      "(206,)\n",
      "(204,)\n",
      "(203,)\n",
      "(205,)\n",
      "(205,)\n",
      "(208,)\n",
      "(208,)\n",
      "(208,)\n",
      "(209,)\n",
      "(210,)\n",
      "(208,)\n",
      "(208,)\n",
      "(206,)\n",
      "(207,)\n",
      "(206,)\n",
      "(207,)\n",
      "(208,)\n",
      "(205,)\n",
      "(204,)\n",
      "(207,)\n",
      "(205,)\n",
      "(205,)\n",
      "(207,)\n",
      "(206,)\n",
      "(204,)\n",
      "(206,)\n",
      "(203,)\n",
      "(204,)\n",
      "(206,)\n",
      "(206,)\n",
      "(206,)\n",
      "(202,)\n",
      "(204,)\n",
      "(203,)\n",
      "(207,)\n",
      "(207,)\n",
      "(204,)\n",
      "(207,)\n",
      "(206,)\n",
      "(206,)\n",
      "(205,)\n",
      "(204,)\n",
      "(207,)\n",
      "(208,)\n",
      "(207,)\n",
      "(208,)\n",
      "(207,)\n",
      "(208,)\n",
      "(208,)\n",
      "(205,)\n",
      "(202,)\n",
      "(202,)\n",
      "(203,)\n",
      "(204,)\n",
      "(202,)\n",
      "(204,)\n",
      "(202,)\n",
      "(203,)\n",
      "(202,)\n",
      "(201,)\n",
      "(202,)\n",
      "(200,)\n",
      "(204,)\n",
      "(202,)\n",
      "(202,)\n",
      "(204,)\n",
      "(202,)\n",
      "(207,)\n",
      "(204,)\n",
      "(207,)\n",
      "(207,)\n",
      "(205,)\n",
      "(206,)\n",
      "(206,)\n",
      "(205,)\n",
      "(206,)\n",
      "(206,)\n",
      "(202,)\n",
      "(203,)\n",
      "(204,)\n",
      "(203,)\n",
      "(203,)\n",
      "(204,)\n",
      "(207,)\n",
      "(203,)\n",
      "(202,)\n",
      "(202,)\n",
      "(200,)\n",
      "(200,)\n",
      "(201,)\n",
      "(201,)\n",
      "(200,)\n",
      "(200,)\n",
      "(198,)\n",
      "(199,)\n",
      "(199,)\n",
      "(197,)\n",
      "(196,)\n",
      "(198,)\n",
      "(199,)\n",
      "(197,)\n",
      "(196,)\n",
      "(197,)\n",
      "(198,)\n",
      "(200,)\n",
      "(199,)\n",
      "(202,)\n",
      "(198,)\n",
      "(200,)\n",
      "(197,)\n",
      "(201,)\n",
      "(201,)\n",
      "(198,)\n",
      "(201,)\n",
      "(201,)\n",
      "(202,)\n",
      "(201,)\n",
      "(199,)\n",
      "(203,)\n",
      "(203,)\n",
      "(200,)\n",
      "(202,)\n",
      "(200,)\n",
      "(202,)\n",
      "(201,)\n",
      "(202,)\n",
      "(202,)\n",
      "(199,)\n",
      "(201,)\n",
      "(202,)\n",
      "(200,)\n",
      "(201,)\n",
      "(202,)\n",
      "(202,)\n",
      "(200,)\n",
      "(199,)\n",
      "(201,)\n",
      "(199,)\n",
      "(199,)\n",
      "(200,)\n",
      "(200,)\n",
      "(201,)\n",
      "(200,)\n",
      "(204,)\n",
      "(202,)\n",
      "(204,)\n",
      "(202,)\n",
      "(199,)\n",
      "(201,)\n",
      "(202,)\n",
      "(201,)\n",
      "(202,)\n",
      "(201,)\n",
      "(200,)\n",
      "(198,)\n",
      "(199,)\n",
      "(197,)\n",
      "(201,)\n",
      "(200,)\n",
      "(200,)\n",
      "(200,)\n",
      "(200,)\n",
      "(200,)\n",
      "(197,)\n",
      "(198,)\n",
      "(200,)\n",
      "(199,)\n",
      "(198,)\n",
      "(197,)\n",
      "(195,)\n",
      "(201,)\n",
      "(200,)\n",
      "(201,)\n",
      "(200,)\n",
      "(203,)\n",
      "(203,)\n",
      "(202,)\n",
      "(201,)\n",
      "(201,)\n",
      "(202,)\n",
      "(204,)\n",
      "(203,)\n",
      "(203,)\n",
      "(200,)\n",
      "(201,)\n",
      "(199,)\n",
      "(200,)\n"
     ]
    }
   ],
   "source": [
    "for line in indices:\n",
    "    print(line.shape)"
   ]
  },
  {
   "cell_type": "code",
   "execution_count": 172,
   "metadata": {},
   "outputs": [],
   "source": [
    "f=[]\n",
    "for i in Taxi['taxidata']:\n",
    "    f.append(i)"
   ]
  },
  {
   "cell_type": "code",
   "execution_count": 173,
   "metadata": {},
   "outputs": [
    {
     "data": {
      "text/plain": [
       "['ang', 'lat', 'lon', 'psg', 'valid', 'vel', 'x', 'y', 'z']"
      ]
     },
     "execution_count": 173,
     "metadata": {},
     "output_type": "execute_result"
    }
   ],
   "source": [
    "f"
   ]
  },
  {
   "cell_type": "code",
   "execution_count": 6,
   "metadata": {},
   "outputs": [],
   "source": [
    "import datetime as dt"
   ]
  },
  {
   "cell_type": "code",
   "execution_count": 188,
   "metadata": {},
   "outputs": [
    {
     "data": {
      "text/plain": [
       "datetime.time(4, 5, 6)"
      ]
     },
     "execution_count": 188,
     "metadata": {},
     "output_type": "execute_result"
    }
   ],
   "source": [
    "dt.datetime(1,2,3,4,5,6).time()"
   ]
  },
  {
   "cell_type": "code",
   "execution_count": 183,
   "metadata": {},
   "outputs": [
    {
     "data": {
      "text/plain": [
       "1"
      ]
     },
     "execution_count": 183,
     "metadata": {},
     "output_type": "execute_result"
    }
   ],
   "source": [
    "dt.time(1,1,12).second//10"
   ]
  },
  {
   "cell_type": "code",
   "execution_count": null,
   "metadata": {},
   "outputs": [],
   "source": [
    "np.random.choice()"
   ]
  },
  {
   "cell_type": "code",
   "execution_count": 11,
   "metadata": {},
   "outputs": [],
   "source": [
    "s_elist = gpd.read_file('Seoul_Edgelist.csv')"
   ]
  },
  {
   "cell_type": "code",
   "execution_count": 12,
   "metadata": {},
   "outputs": [],
   "source": [
    "s_link = gpd.read_file(\"Seoul_Links.shp\")"
   ]
  },
  {
   "cell_type": "code",
   "execution_count": 13,
   "metadata": {},
   "outputs": [],
   "source": [
    "s_node = gpd.read_file(\"Seoul_Nodes.shp\",encoding = 'UTF-8')"
   ]
  },
  {
   "cell_type": "code",
   "execution_count": 16,
   "metadata": {},
   "outputs": [],
   "source": [
    "lat, lon = Taxi['taxidata']['lat'][:], Taxi['taxidata']['lon'][:]"
   ]
  },
  {
   "cell_type": "code",
   "execution_count": 23,
   "metadata": {},
   "outputs": [],
   "source": [
    "lat, lon  =lat/1e7, lon/1e7"
   ]
  },
  {
   "cell_type": "code",
   "execution_count": 151,
   "metadata": {},
   "outputs": [
    {
     "data": {
      "text/plain": [
       "<HDF5 dataset \"y\": shape (86349371,), type \"<f8\">"
      ]
     },
     "execution_count": 151,
     "metadata": {},
     "output_type": "execute_result"
    }
   ],
   "source": [
    "Taxi['taxidata'].create_dataset('y', data = lat_, compression='gzip')"
   ]
  },
  {
   "cell_type": "code",
   "execution_count": 59,
   "metadata": {},
   "outputs": [],
   "source": [
    "P = pyproj.Proj(proj='utm', zone=52, ellps='WGS84', preserve_units=True)"
   ]
  },
  {
   "cell_type": "code",
   "execution_count": 89,
   "metadata": {},
   "outputs": [],
   "source": [
    "timetable = Taxi['TimeTable']"
   ]
  },
  {
   "cell_type": "code",
   "execution_count": 96,
   "metadata": {},
   "outputs": [],
   "source": [
    "target = timetable[:,:500].flatten()[timetable[:,:500].flatten()>=0]"
   ]
  },
  {
   "cell_type": "code",
   "execution_count": 65,
   "metadata": {},
   "outputs": [
    {
     "data": {
      "text/plain": [
       "(37.6172848, 127.027938)"
      ]
     },
     "execution_count": 65,
     "metadata": {},
     "output_type": "execute_result"
    }
   ],
   "source": [
    "lon[-1], lat[-1]"
   ]
  },
  {
   "cell_type": "code",
   "execution_count": 83,
   "metadata": {},
   "outputs": [],
   "source": [
    "lon_,lat_ = UTM(lat, lon)"
   ]
  },
  {
   "cell_type": "code",
   "execution_count": 79,
   "metadata": {},
   "outputs": [],
   "source": [
    "lon_,lat_ = P(lon[-2], lat[-2])"
   ]
  },
  {
   "cell_type": "code",
   "execution_count": 99,
   "metadata": {},
   "outputs": [
    {
     "data": {
      "text/plain": [
       "array([-6128636.30394143, -6128636.30394143, -6128636.30394143, ...,\n",
       "         330965.67103201,   321580.06744636,   325953.4528615 ])"
      ]
     },
     "execution_count": 99,
     "metadata": {},
     "output_type": "execute_result"
    }
   ],
   "source": [
    "lon_"
   ]
  },
  {
   "cell_type": "code",
   "execution_count": 87,
   "metadata": {},
   "outputs": [],
   "source": [
    "y = lat_"
   ]
  },
  {
   "cell_type": "code",
   "execution_count": 86,
   "metadata": {},
   "outputs": [],
   "source": [
    "x = lon_"
   ]
  },
  {
   "cell_type": "code",
   "execution_count": 98,
   "metadata": {},
   "outputs": [],
   "source": [
    "target_x = x[target]\n",
    "target_y = y[target]"
   ]
  },
  {
   "cell_type": "code",
   "execution_count": 103,
   "metadata": {},
   "outputs": [
    {
     "data": {
      "text/plain": [
       "(2009562,)"
      ]
     },
     "execution_count": 103,
     "metadata": {},
     "output_type": "execute_result"
    }
   ],
   "source": [
    "target_x.shape"
   ]
  },
  {
   "cell_type": "code",
   "execution_count": 104,
   "metadata": {},
   "outputs": [
    {
     "data": {
      "text/plain": [
       "array([322318.90105034, 321212.07247486, 322134.21884113, ...,\n",
       "       325994.52646733, 314926.72656788, 319124.5570956 ])"
      ]
     },
     "execution_count": 104,
     "metadata": {},
     "output_type": "execute_result"
    }
   ],
   "source": [
    "target_x[target_x<4e7]\n",
    "target_y[target_x<4e7]"
   ]
  },
  {
   "cell_type": "code",
   "execution_count": 134,
   "metadata": {},
   "outputs": [],
   "source": [
    "test_graph = subgraph_of_node(Seoul, 82172,10)"
   ]
  },
  {
   "cell_type": "code",
   "execution_count": 135,
   "metadata": {},
   "outputs": [
    {
     "data": {
      "image/png": "[encoded data removed]",
      "text/plain": [
       "<Figure size 432x288 with 1 Axes>"
      ]
     },
     "metadata": {
      "needs_background": "light"
     },
     "output_type": "display_data"
    }
   ],
   "source": [
    "edge_plot(test_graph)"
   ]
  },
  {
   "cell_type": "code",
   "execution_count": 143,
   "metadata": {},
   "outputs": [
    {
     "data": {
      "text/plain": [
       "(336623.3544, 4146765.681)"
      ]
     },
     "execution_count": 143,
     "metadata": {},
     "output_type": "execute_result"
    }
   ],
   "source": [
    "position[82172]"
   ]
  },
  {
   "cell_type": "code",
   "execution_count": 144,
   "metadata": {},
   "outputs": [],
   "source": [
    "posy_min = 1e9\n",
    "posy_max = 0\n",
    "position = test_graph.nodes(data='pos')\n",
    "for node in test_graph:\n",
    "    posy_min =  position[node][1] if position[node][1]<posy_min else posy_min\n",
    "    posy_max =  position[node][1] if position[node][1]>posy_min else posy_max"
   ]
  },
  {
   "cell_type": "code",
   "execution_count": null,
   "metadata": {},
   "outputs": [],
   "source": []
  },
  {
   "cell_type": "code",
   "execution_count": 145,
   "metadata": {},
   "outputs": [
    {
     "data": {
      "text/plain": [
       "(270807.43630506936, 350033.2550792806, 4146465.6275015916, 4146947.779726031)"
      ]
     },
     "execution_count": 145,
     "metadata": {},
     "output_type": "execute_result"
    },
    {
     "data": {
      "image/png": "[encoded data removed]",
      "text/plain": [
       "<Figure size 1080x1080 with 1 Axes>"
      ]
     },
     "metadata": {
      "needs_background": "light"
     },
     "output_type": "display_data"
    }
   ],
   "source": [
    "plt.figure(figsize = [15,15])\n",
    "plt.scatter(target_x[np.logical_and(target_y>posy_min, target_y<posy_max)],target_y[np.logical_and(target_y>posy_min, target_y<posy_max)],s = 0.1)\n",
    "plt.axis('equal')"
   ]
  },
  {
   "cell_type": "code",
   "execution_count": 112,
   "metadata": {},
   "outputs": [],
   "source": [
    "posy_max = s_elist['YCoord'].astype(float).max()\n",
    "posy_min = s_elist['YCoord'].astype(float).min()"
   ]
  },
  {
   "cell_type": "code",
   "execution_count": 58,
   "metadata": {},
   "outputs": [
    {
     "data": {
      "text/plain": [
       "1e+30"
      ]
     },
     "execution_count": 58,
     "metadata": {},
     "output_type": "execute_result"
    }
   ],
   "source": [
    "lat_"
   ]
  },
  {
   "cell_type": "code",
   "execution_count": 82,
   "metadata": {},
   "outputs": [
    {
     "data": {
      "text/plain": [
       "(325953.4528614973, 4165182.021609239)"
      ]
     },
     "execution_count": 82,
     "metadata": {},
     "output_type": "execute_result"
    }
   ],
   "source": [
    "lon_, lat_"
   ]
  },
  {
   "cell_type": "code",
   "execution_count": 76,
   "metadata": {},
   "outputs": [
    {
     "data": {
      "text/plain": [
       "{'pos': (345453.7113, 4080149.319)}"
      ]
     },
     "execution_count": 76,
     "metadata": {},
     "output_type": "execute_result"
    }
   ],
   "source": [
    "Seoul.nodes(data=True)[1]"
   ]
  },
  {
   "cell_type": "markdown",
   "metadata": {},
   "source": [
    "# Making Graph"
   ]
  },
  {
   "cell_type": "code",
   "execution_count": 71,
   "metadata": {},
   "outputs": [],
   "source": [
    "Seoul = nx.MultiDiGraph()\n",
    "for l, e in s_elist.iterrows():\n",
    "    geom = s_link['geometry'][int(e['EDGE'])-1]\n",
    "    Seoul.add_edge(int(e['START_NODE']),int(e['END_NODE']),ID = int(e['EDGE']), length = float(e['LENGTH']), geometry = geom)\n",
    "    Seoul.nodes[int(e['START_NODE'])]['pos'] = (float(e['XCoord']),float(e['YCoord']))"
   ]
  },
  {
   "cell_type": "code",
   "execution_count": 119,
   "metadata": {},
   "outputs": [],
   "source": [
    "def subgraph_of_node(G, node, depth_limit = 2):\n",
    "    '''return subgraph of given node with bfs manner'''\n",
    "    nodes = {node : 0}\n",
    "    for edge in nx.bfs_edges(G, node, depth_limit= depth_limit):\n",
    "        nodes[edge[1]] = 0\n",
    "    \n",
    "    nodes = list(nodes.keys())\n",
    "    if depth_limit == 0:\n",
    "        nodes = [node]\n",
    "    return G.subgraph(nodes)\n",
    "    "
   ]
  },
  {
   "cell_type": "code",
   "execution_count": 120,
   "metadata": {},
   "outputs": [],
   "source": [
    "def nn_nodes(G, node, depth_limit = 2):\n",
    "    '''return nodes from given node with bfs manner'''\n",
    "    nodes = {node : 0}\n",
    "    for edge in nx.bfs_edges(G, node, depth_limit= depth_limit):\n",
    "        nodes[edge[1]] = 0\n",
    "    \n",
    "    nodes = list(nodes.keys())\n",
    "    if depth_limit == 0:\n",
    "        nodes = [node]\n",
    "    return nodes"
   ]
  },
  {
   "cell_type": "code",
   "execution_count": 121,
   "metadata": {},
   "outputs": [],
   "source": [
    "def pos(G):\n",
    "    '''return position dictionay'''\n",
    "    return G.nodes(data = 'pos')"
   ]
  },
  {
   "cell_type": "code",
   "execution_count": 122,
   "metadata": {},
   "outputs": [],
   "source": [
    "def edge_plot(G):\n",
    "    '''plot edges in given graph'''\n",
    "    for i in G.edges(data = 'geometry'):\n",
    "        plt.plot(*i[2].xy)\n",
    "    "
   ]
  },
  {
   "cell_type": "code",
   "execution_count": 123,
   "metadata": {},
   "outputs": [],
   "source": [
    "def edgelist_plot(G, edgelist):\n",
    "    '''plot edges in given edgelist '''\n",
    "    for edge in edgelist:\n",
    "        plt.plot(*G.edges[edge]['geometry'].xy)\n",
    "    "
   ]
  },
  {
   "cell_type": "code",
   "execution_count": 124,
   "metadata": {},
   "outputs": [],
   "source": [
    "def subgraph_plot(G, node, depth_limit = 2):\n",
    "    '''making subgraph and plot'''\n",
    "    sub = subgraph_of_node(G,node, depth_limit)\n",
    "    node_pos = pos(sub)[node]\n",
    "    \n",
    "    edge_plot(sub)\n",
    "    plt.scatter(*node_pos, s= 100)"
   ]
  },
  {
   "cell_type": "code",
   "execution_count": 125,
   "metadata": {},
   "outputs": [],
   "source": [
    "def plot_large():\n",
    "    '''just util func'''\n",
    "    plt.figure(figsize = [15,15])\n",
    "    plt.axis('equal')\n",
    "    plt.axis('off')"
   ]
  },
  {
   "cell_type": "markdown",
   "metadata": {},
   "source": [
    "## Angle calculation"
   ]
  },
  {
   "cell_type": "code",
   "execution_count": 90,
   "metadata": {},
   "outputs": [
    {
     "name": "stdout",
     "output_type": "stream",
     "text": [
      "(707, 774, 1)\n"
     ]
    }
   ],
   "source": [
    "for e in Seoul.edges:\n",
    "    if e[2]==1:\n",
    "        print(e)\n",
    "        break"
   ]
  },
  {
   "cell_type": "code",
   "execution_count": 126,
   "metadata": {},
   "outputs": [],
   "source": [
    "def angle(G, node1, node2):\n",
    "    '''aspect of node1 as origin, return angle of node2 in sence of polar coordinates.'''\n",
    "    p1 = G.nodes[node1]['pos']\n",
    "    p2 = G.nodes[node2]['pos']\n",
    "    p2_ = (p2[0]-p1[0],p2[1]-p1[1])\n",
    "    return np.arctan2(p2_[1],p2_[0])"
   ]
  },
  {
   "cell_type": "code",
   "execution_count": null,
   "metadata": {},
   "outputs": [],
   "source": [
    "for edge in Seoul.edges:\n",
    "    edge[-1]['angle'] = angle(Seoul, edge[0],edge[1])\n",
    "    "
   ]
  },
  {
   "cell_type": "code",
   "execution_count": 127,
   "metadata": {},
   "outputs": [],
   "source": [
    "class segment:\n",
    "    def __init__(self, edge = None):\n",
    "        if edge is None:\n",
    "            #Do nothing\n",
    "            pass\n",
    "        else:\n",
    "            #initialize with given node as segment\n",
    "            self.start_node = edge[0]\n",
    "            self.num = 1\n",
    "            self.path = np.array(edge[1:3],dtype = [('node','i4'),('id','i4')])\n",
    "            self.past_node = self.start_node\n",
    "            self.last_node = edge[1]\n",
    "            self.length = edge[-1]['length']\n",
    "            self.angle = edge[-1]['angle']\n",
    "            self.edgelist = {edge[:3]:True}\n",
    "            self.total_angle  = np.array([0],dtype = np.float32)\n",
    "    \n",
    "    def expand(self, edge):\n",
    "        '''return copy of segment appending extra edge '''\n",
    "        temp = segment()\n",
    "        temp.start_node = self.start_node\n",
    "        temp.past_node = edge[0]\n",
    "        temp.last_node = edge[1]\n",
    "        temp.num = self.num+1\n",
    "        temp.path = np.empty([temp.num],dtype = [('node','i4'),('id','i4')])\n",
    "        temp.path[:-1] = self.path\n",
    "        temp.path[-1] = edge[1:3]\n",
    "        temp.length = self.length + edge[-1]['length']\n",
    "        temp.angle =  edge[-1]['angle']\n",
    "        temp.edgelist = {edge[:3]:True}\n",
    "        for e in self.edgelist:\n",
    "            temp.edgelist[e] = True\n",
    "        temp.total_angle = np.zeros([temp.num],dtype = np.float32)\n",
    "        temp.total_angle[:-1] = self.total_angle + temp.angle- self.angle\n",
    "        return temp\n",
    "    \n",
    "    def check(self, k):\n",
    "        '''check condition of k segments'''\n",
    "        return self.length> k or self.total_angle[-1]<-2*np.pi or self.total_angle[-1]>2*np.pi #(self.total_angle <-2*np.pi).any() or (self.total_angle > 2*np.pi).any()\n",
    "    \n",
    "    def overlap(self, edge):\n",
    "        '''check overlap with given edge'''\n",
    "        if self.num == 1:\n",
    "            return False\n",
    "        return edge[:3] in self.edgelist\n",
    "    \n",
    "    def __repr__(self):\n",
    "        return \"<segment from node '{}' to '{}', total num : {}>\".format(self.start_node, self.last_node, self.num)\n",
    "    \n",
    "    def __lt__(self, other):\n",
    "        '''sorting'''\n",
    "        return self.length<other.length\n",
    "    \n",
    "    def __gt__(self, other):\n",
    "        '''sorting'''\n",
    "        return self.length>other.length\n",
    "    \n",
    "    def __le__(self, other):\n",
    "        '''sorting'''\n",
    "        return self.length<=other.length\n",
    "    \n",
    "    def __ge__(self, other):\n",
    "        '''sorting'''\n",
    "        return self.length>=other.length\n",
    "    \n",
    "    def edges(self):\n",
    "        '''return edgelist'''\n",
    "        e = []\n",
    "        temp = self.start_node\n",
    "        for p in self.path:\n",
    "            e.append((temp,p['node'],p['id']))\n",
    "            temp = p['node']\n",
    "        return e\n",
    "        \n",
    "    def nodes(self):\n",
    "        '''return node list'''\n",
    "        n = [self.start_node]\n",
    "        if self.num == 1:\n",
    "            n.append(self.path['node'])\n",
    "            return n\n",
    "        for p in self.path:\n",
    "            n.append(p['node'])\n",
    "        return n\n",
    "    \n",
    "    def plot(self, pos, *arg,**kwarg):\n",
    "        '''plot segment in aspect of graph'''\n",
    "        temp = nx.path_graph(self.num+1,create_using=nx.DiGraph)\n",
    "        position = {}\n",
    "        for i,n in enumerate(self.nodes()):\n",
    "            position[i] = pos[n]\n",
    "        nx.draw(temp, position, *arg, **kwarg)"
   ]
  },
  {
   "cell_type": "code",
   "execution_count": 128,
   "metadata": {},
   "outputs": [],
   "source": [
    "def k_segments(G, node, k= 100):\n",
    "    '''k_segments with only breadth-first searching'''\n",
    "    segments = [segment(edge) for edge in G.edges(node,keys = True, data = True)]\n",
    "    k_segments = []\n",
    "    iter_num  = 0\n",
    "    while segments:\n",
    "        iter_num += 1\n",
    "        target = segments.pop(0)\n",
    "        ch = False\n",
    "        #print(\"target : {},{}\".format(target.past_node, target.last_node))\n",
    "        for edge in G.edges(target.last_node, keys = True, data = True):\n",
    "            if edge[1] == target.past_node or target.overlap(edge): continue\n",
    "            #print(\"to : {}, {}\".format(edge[0], edge[1]))\n",
    "            ch = True\n",
    "            temp = target.expand(edge)\n",
    "            if temp.check(k):\n",
    "                k_segments.append(temp)\n",
    "            else:\n",
    "                segments.append(temp)\n",
    "        if not ch:\n",
    "            k_segments.append(target)\n",
    "        if iter_num == 1e5:\n",
    "            print(node)\n",
    "        #print(k_segments)\n",
    "    return k_segments"
   ]
  },
  {
   "cell_type": "code",
   "execution_count": 129,
   "metadata": {},
   "outputs": [],
   "source": [
    "def k_segments_strict_bfs(G, node, k= 100):\n",
    "    '''no overlapping node'''\n",
    "    segments = [segment(edge) for edge in G.edges(node,keys = True, data = True)]\n",
    "    k_segments = []\n",
    "    nodes = {node :True}\n",
    "    iter_num  = 0\n",
    "    while segments:\n",
    "        iter_num += 1\n",
    "        target = segments.pop(0)\n",
    "        ch = False\n",
    "        #print(\"target : {},{}\".format(target.past_node, target.last_node))\n",
    "        for edge in G.edges(target.last_node, keys = True, data = True):\n",
    "            if edge[1] in nodes: continue\n",
    "            #print(\"to : {}, {}\".format(edge[0], edge[1]))\n",
    "            ch = True\n",
    "            nodes[edge[1]] = True\n",
    "            temp = target.expand(edge)\n",
    "            if temp.check(k):\n",
    "                k_segments.append(temp)\n",
    "            else:\n",
    "                segments.append(temp)\n",
    "        #if not ch:\n",
    "            #k_segments.append(target)\n",
    "        if iter_num == 1e5:\n",
    "            print(node)\n",
    "        #print(k_segments)\n",
    "    return k_segments"
   ]
  },
  {
   "cell_type": "code",
   "execution_count": 130,
   "metadata": {},
   "outputs": [],
   "source": [
    "def k_segments_strict_bfs_with_length(G, node, k= 100):\n",
    "    '''no overlapping node and search with length.'''\n",
    "    segments = [segment(edge) for edge in G.edges(node,keys = True, data = True)]\n",
    "    k_segments = []\n",
    "    nodes = {node :True}\n",
    "    iter_num  = 0\n",
    "    segments.sort()\n",
    "    while segments:\n",
    "        iter_num += 1\n",
    "        target = segments.pop(0)\n",
    "        ch = False\n",
    "        #print(\"target : {},{}\".format(target.past_node, target.last_node))\n",
    "        for edge in G.edges(target.last_node, keys = True, data = True):\n",
    "            if edge[1] in nodes: continue\n",
    "            #print(\"to : {}, {}\".format(edge[0], edge[1]))\n",
    "            ch = True\n",
    "            nodes[edge[1]] = True\n",
    "            temp = target.expand(edge)\n",
    "            if temp.check(k):\n",
    "                k_segments.append(temp)\n",
    "            else:\n",
    "                segments.append(temp)\n",
    "        if not ch:\n",
    "            k_segments.append(target)\n",
    "        if iter_num == 1e5:\n",
    "            print(node)\n",
    "        #print(k_segments)\n",
    "        segments.sort()\n",
    "    return k_segments"
   ]
  },
  {
   "cell_type": "code",
   "execution_count": 131,
   "metadata": {},
   "outputs": [],
   "source": [
    "def k_segments_semi_strict_bfs(G, node, k= 100):\n",
    "    '''no overlap within single segment.'''\n",
    "    segments = [segment(edge) for edge in G.edges(node,keys = True, data = True)]\n",
    "    k_segments = []\n",
    "    nodes = {node :True}\n",
    "    iter_num  = 0\n",
    "    while segments:\n",
    "        iter_num += 1\n",
    "        target = segments.pop(0)\n",
    "        ch = False\n",
    "        #print(\"target : {},{}\".format(target.past_node, target.last_node))\n",
    "        for edge in G.edges(target.last_node, keys = True, data = True):\n",
    "            if edge[1] in target.nodes(): continue\n",
    "            #print(\"to : {}, {}\".format(edge[0], edge[1]))\n",
    "            ch = True\n",
    "            nodes[edge[1]] = True\n",
    "            temp = target.expand(edge)\n",
    "            if temp.check(k):\n",
    "                k_segments.append(temp)\n",
    "            else:\n",
    "                segments.append(temp)\n",
    "        #if not ch:\n",
    "            #k_segments.append(target)\n",
    "        if iter_num == 1e5:\n",
    "            print(node)\n",
    "        #print(k_segments)\n",
    "    return k_segments"
   ]
  },
  {
   "cell_type": "code",
   "execution_count": null,
   "metadata": {},
   "outputs": [],
   "source": [
    "kseg = {}\n",
    "for node in Seoul.nodes:\n",
    "    kseg[node] = k_segments_strict_bfs_with_length(Seoul, node, k= 1000)"
   ]
  }
 ],
 "metadata": {
  "kernelspec": {
   "display_name": "Python 3",
   "language": "python",
   "name": "python3"
  },
  "language_info": {
   "codemirror_mode": {
    "name": "ipython",
    "version": 3
   },
   "file_extension": ".py",
   "mimetype": "text/x-python",
   "name": "python",
   "nbconvert_exporter": "python",
   "pygments_lexer": "ipython3",
   "version": "3.7.4"
  }
 },
 "nbformat": 4,
 "nbformat_minor": 4
}
